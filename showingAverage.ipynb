{
 "cells": [
  {
   "cell_type": "code",
   "execution_count": 2,
   "id": "90cda641-4cc0-483c-8aff-a2da21bd06a8",
   "metadata": {
    "tags": []
   },
   "outputs": [
    {
     "name": "stdout",
     "output_type": "stream",
     "text": [
      "count 7608 subcount 165 othersubcount 7443\n"
     ]
    },
    {
     "data": {
      "image/png": "[encoded data removed]",
      "text/plain": [
       "<Figure size 640x480 with 1 Axes>"
      ]
     },
     "metadata": {},
     "output_type": "display_data"
    }
   ],
   "source": [
    "import numpy as np\n",
    "import matplotlib.pyplot as plt\n",
    "\n",
    "data_file = open(\"mnist_dataset/mnist_imbalanced_2_80.csv\", 'r')\n",
    "data_list = data_file.readlines()\n",
    "data_file.close()\n",
    "\n",
    "image_sum = np.zeros((1,784)) \n",
    "\n",
    "count = 0\n",
    "subcount = 0\n",
    "othercount = 0\n",
    "\n",
    "for record in data_list:                  # test_data_list is all the values in the test file\n",
    "    all_values = record.split(',')             # split each record (image) into values seperated by commas\n",
    "    correct_label = int(all_values[0])         # the first value is the lable\n",
    "    if correct_label == 3:    # only get the digit of interest\n",
    "        subcount += 1\n",
    "        inputs = (np.asfarray(all_values[1:]))  \n",
    "        image_sum = image_sum + inputs    # add the current image to the running total  \n",
    "    othercount += 1\n",
    "count = othercount + subcount\n",
    "\n",
    "image_sum_av = image_sum / subcount # This is the average \n",
    "\n",
    "print(\"count\",count,\"subcount\",subcount,\"othersubcount\",othercount)\n",
    "image_sum = image_sum.reshape(28,28)\n",
    "plt.imshow(image_sum, cmap = plt.get_cmap('Reds'));   # seismic is good"
   ]
  },
  {
   "cell_type": "code",
   "execution_count": null,
   "id": "b74d8d9b-97a1-480c-9648-17b3a177912e",
   "metadata": {},
   "outputs": [],
   "source": []
  },
  {
   "cell_type": "code",
   "execution_count": null,
   "id": "cda77b62-88dd-4241-9573-08bd9acc0b8f",
   "metadata": {},
   "outputs": [],
   "source": []
  }
 ],
 "metadata": {
  "kernelspec": {
   "display_name": "Python 3 (ipykernel)",
   "language": "python",
   "name": "python3"
  },
  "language_info": {
   "codemirror_mode": {
    "name": "ipython",
    "version": 3
   },
   "file_extension": ".py",
   "mimetype": "text/x-python",
   "name": "python",
   "nbconvert_exporter": "python",
   "pygments_lexer": "ipython3",
   "version": "3.12.0"
  }
 },
 "nbformat": 4,
 "nbformat_minor": 5
}
