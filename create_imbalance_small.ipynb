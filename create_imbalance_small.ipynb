{
 "cells": [
  {
   "cell_type": "markdown",
   "id": "d0b70d4a-ac52-443d-bc8c-c6ba79064308",
   "metadata": {},
   "source": [
    "## Creating small percentage Imbalanced MNIST Dataset\n",
    "\n",
    "### Purpose\n",
    "The script works in similar fashed to create_imbalance but for smaller percentages as the aforementioned script runs into errors with small numbers\n",
    "\n",
    "\n",
    "### Iterative Imbalance Creation\n",
    "For each digit (0-9) and for a set of imbalance percentages (2%, 5%, 8%), an imbalanced dataset is created.\n",
    "\n",
    "### Output\n",
    "A confirmation message is displayed for each imbalanced dataset's successful creation.\n",
    "\n",
    "### Important!!\n",
    "Percentages where not always exact, and the spread of the reamainding numbers was not entirely even, but is still close.aset's successful creation."
   ]
  },
  {
   "cell_type": "code",
   "execution_count": 6,
   "id": "d1341435-2c67-4f35-98a6-55baa5c045e7",
   "metadata": {},
   "outputs": [
    {
     "name": "stdout",
     "output_type": "stream",
     "text": [
      "Imbalanced dataset written to mnist_dataset/mnist_imbalanced_0_2.csv\n",
      "Imbalanced dataset written to mnist_dataset/mnist_imbalanced_0_5.csv\n",
      "Imbalanced dataset written to mnist_dataset/mnist_imbalanced_0_8.csv\n",
      "Imbalanced dataset written to mnist_dataset/mnist_imbalanced_1_2.csv\n",
      "Imbalanced dataset written to mnist_dataset/mnist_imbalanced_1_5.csv\n",
      "Imbalanced dataset written to mnist_dataset/mnist_imbalanced_1_8.csv\n",
      "Imbalanced dataset written to mnist_dataset/mnist_imbalanced_2_2.csv\n",
      "Imbalanced dataset written to mnist_dataset/mnist_imbalanced_2_5.csv\n",
      "Imbalanced dataset written to mnist_dataset/mnist_imbalanced_2_8.csv\n",
      "Imbalanced dataset written to mnist_dataset/mnist_imbalanced_3_2.csv\n",
      "Imbalanced dataset written to mnist_dataset/mnist_imbalanced_3_5.csv\n",
      "Imbalanced dataset written to mnist_dataset/mnist_imbalanced_3_8.csv\n",
      "Imbalanced dataset written to mnist_dataset/mnist_imbalanced_4_2.csv\n",
      "Imbalanced dataset written to mnist_dataset/mnist_imbalanced_4_5.csv\n",
      "Imbalanced dataset written to mnist_dataset/mnist_imbalanced_4_8.csv\n",
      "Imbalanced dataset written to mnist_dataset/mnist_imbalanced_5_2.csv\n",
      "Imbalanced dataset written to mnist_dataset/mnist_imbalanced_5_5.csv\n",
      "Imbalanced dataset written to mnist_dataset/mnist_imbalanced_5_8.csv\n",
      "Imbalanced dataset written to mnist_dataset/mnist_imbalanced_6_2.csv\n",
      "Imbalanced dataset written to mnist_dataset/mnist_imbalanced_6_5.csv\n",
      "Imbalanced dataset written to mnist_dataset/mnist_imbalanced_6_8.csv\n",
      "Imbalanced dataset written to mnist_dataset/mnist_imbalanced_7_2.csv\n",
      "Imbalanced dataset written to mnist_dataset/mnist_imbalanced_7_5.csv\n",
      "Imbalanced dataset written to mnist_dataset/mnist_imbalanced_7_8.csv\n",
      "Imbalanced dataset written to mnist_dataset/mnist_imbalanced_8_2.csv\n",
      "Imbalanced dataset written to mnist_dataset/mnist_imbalanced_8_5.csv\n",
      "Imbalanced dataset written to mnist_dataset/mnist_imbalanced_8_8.csv\n",
      "Imbalanced dataset written to mnist_dataset/mnist_imbalanced_9_2.csv\n",
      "Imbalanced dataset written to mnist_dataset/mnist_imbalanced_9_5.csv\n",
      "Imbalanced dataset written to mnist_dataset/mnist_imbalanced_9_8.csv\n"
     ]
    }
   ],
   "source": [
    "import random\n",
    "\n",
    "def create_imbalance(digit, balance):\n",
    "    input_path = \"mnist_dataset/mnist_train.csv\"\n",
    "    TARGET_DIGIT = digit  \n",
    "    IMBALANCE_PERCENTAGE = balance  \n",
    "    \n",
    "    output_path = f\"mnist_dataset/mnist_imbalanced_{TARGET_DIGIT}_{IMBALANCE_PERCENTAGE}.csv\"\n",
    "    \n",
    "    # Load the MNIST data\n",
    "    with open(input_path, 'r') as file:\n",
    "        data_list = file.readlines()\n",
    "    \n",
    "    # Separate the data by label\n",
    "    data_by_label = {i: [] for i in range(10)}\n",
    "    for record in data_list:\n",
    "        label = int(record.split(',')[0])\n",
    "        data_by_label[label].append(record)\n",
    "    \n",
    "    # Determine the total number of records for the imbalanced dataset\n",
    "    total_records = sum(len(v) for v in data_by_label.values())\n",
    "    desired_target_digit_count = int(total_records * (IMBALANCE_PERCENTAGE / 100))\n",
    "    desired_other_digits_total = total_records - desired_target_digit_count\n",
    "    \n",
    "    # Number of records each of the other digits should ideally have\n",
    "    ideal_each_digit_count = int(desired_other_digits_total // 9)\n",
    "    \n",
    "    imbalance_data = random.sample(data_by_label[TARGET_DIGIT], desired_target_digit_count)  # Sample the desired count of the target digit records\n",
    "    \n",
    "    for label, records in data_by_label.items():\n",
    "        if label != TARGET_DIGIT:\n",
    "            sample_size = min(len(records), ideal_each_digit_count)\n",
    "            imbalance_data.extend(random.sample(records, sample_size))\n",
    "    \n",
    "    # Write the imbalanced dataset to a new CSV file\n",
    "    with open(output_path, 'w') as file:\n",
    "        for record in imbalance_data:\n",
    "            file.write(record)\n",
    "    \n",
    "    print(f\"Imbalanced dataset written to {output_path}\")\n",
    "\n",
    "for i in range (0, 10):\n",
    "    for j in [2, 5, 8]:\n",
    "        create_imbalance(i, j)"
   ]
  },
  {
   "cell_type": "code",
   "execution_count": null,
   "id": "ac994d49-9e39-4380-8965-057dbade6be3",
   "metadata": {},
   "outputs": [],
   "source": []
  },
  {
   "cell_type": "code",
   "execution_count": null,
   "id": "0b44e659-66bc-4a72-a4c5-871f44e6615b",
   "metadata": {},
   "outputs": [],
   "source": []
  }
 ],
 "metadata": {
  "kernelspec": {
   "display_name": "Python 3 (ipykernel)",
   "language": "python",
   "name": "python3"
  },
  "language_info": {
   "codemirror_mode": {
    "name": "ipython",
    "version": 3
   },
   "file_extension": ".py",
   "mimetype": "text/x-python",
   "name": "python",
   "nbconvert_exporter": "python",
   "pygments_lexer": "ipython3",
   "version": "3.12.0"
  }
 },
 "nbformat": 4,
 "nbformat_minor": 5
}
