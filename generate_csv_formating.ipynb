{
 "cells": [
  {
   "cell_type": "code",
   "execution_count": 11,
   "id": "353f058e-536f-424a-8a6a-4ed42b9c4a9d",
   "metadata": {},
   "outputs": [
    {
     "name": "stdout",
     "output_type": "stream",
     "text": [
      "CSV file 'output.csv' has been created.\n"
     ]
    }
   ],
   "source": [
    "import csv\n",
    "\n",
    "# Define the CSV filename\n",
    "filename = 'output.csv'\n",
    "\n",
    "# Define the headers and the cycles\n",
    "headers = ['original macro', 'original weighted', 'balanced macro', 'balanced weighted']\n",
    "digits = range(10)\n",
    "percentages = [2, 5, 8, 15, 20, 50, 80]\n",
    "\n",
    "# Open the CSV file for writing\n",
    "with open(filename, 'w', newline='') as csvfile:\n",
    "    writer = csv.writer(csvfile)\n",
    "    \n",
    "    # Write the fixed headers\n",
    "    for header in headers:\n",
    "        writer.writerow([header])\n",
    "    \n",
    "    # Write the cycled headers\n",
    "    for percentage in percentages:\n",
    "        for digit in digits:\n",
    "            macro_row = f\"{digit}\"\n",
    "            weighted_row = f\"{digit}\"\n",
    "            writer.writerow([macro_row])\n",
    "            writer.writerow([weighted_row])\n",
    "\n",
    "print(f\"CSV file '{filename}' has been created.\")\n"
   ]
  },
  {
   "cell_type": "code",
   "execution_count": null,
   "id": "4ae9df0b-a5d3-47fd-a455-56c43ddb85d7",
   "metadata": {},
   "outputs": [],
   "source": []
  },
  {
   "cell_type": "code",
   "execution_count": null,
   "id": "aa8e3e02-5d32-4ee1-9030-9cb1a7bcad70",
   "metadata": {},
   "outputs": [],
   "source": []
  }
 ],
 "metadata": {
  "kernelspec": {
   "display_name": "Python 3 (ipykernel)",
   "language": "python",
   "name": "python3"
  },
  "language_info": {
   "codemirror_mode": {
    "name": "ipython",
    "version": 3
   },
   "file_extension": ".py",
   "mimetype": "text/x-python",
   "name": "python",
   "nbconvert_exporter": "python",
   "pygments_lexer": "ipython3",
   "version": "3.12.0"
  }
 },
 "nbformat": 4,
 "nbformat_minor": 5
}
