{
 "cells": [
  {
   "cell_type": "code",
   "execution_count": 44,
   "id": "cb510022-ca78-4229-acb0-3037d2640edb",
   "metadata": {
    "scrolled": true
   },
   "outputs": [
    {
     "name": "stdout",
     "output_type": "stream",
     "text": [
      "7434 entries\n",
      "Digit 0: 165 occurrences | 2.22%\n",
      "Digit 1: 165 occurrences | 2.22%\n",
      "Digit 2: 165 occurrences | 2.22%\n",
      "Digit 3: 165 occurrences | 2.22%\n",
      "Digit 4: 165 occurrences | 2.22%\n",
      "Digit 5: 165 occurrences | 2.22%\n",
      "Digit 6: 165 occurrences | 2.22%\n",
      "Digit 7: 165 occurrences | 2.22%\n",
      "Digit 8: 165 occurrences | 2.22%\n",
      "Digit 9: 5949 occurrences | 80.02%\n"
     ]
    }
   ],
   "source": [
    "#def counter(number, percentage):\n",
    "# Initialize a dictionary to store counts of each digit\n",
    "digit_counts = {i: 0 for i in range(10)}\n",
    "\n",
    "# Load the mnist training data CSV file into a list\n",
    "with open(f\"mnist_dataset/mnist_imbalanced_9_80.csv\", 'r') as training_data_file:\n",
    "    training_data_list = training_data_file.readlines()\n",
    "\n",
    "# Iterate through each record in the training dataset\n",
    "for record in training_data_list:\n",
    "    # Split the record by the ',' commas\n",
    "    all_values = record.split(',')\n",
    "    # The label is the first value\n",
    "    label = int(all_values[0])\n",
    "    # Increment the count for the label\n",
    "    digit_counts[label] += 1\n",
    "\n",
    "total = 0\n",
    "for digit, count in digit_counts.items():\n",
    "    total += count\n",
    "\n",
    "print(f\"{total} entries\")\n",
    "\n",
    "# Print out the counts for each digit\n",
    "for digit, count in digit_counts.items():\n",
    "    print(f\"Digit {digit}: {count} occurrences | {round(count/total*100, 2)}%\")\n",
    "\n",
    "for digit, count in digit_counts.items():\n",
    "    total = 0\n",
    "    total += count\n",
    "        \n",
    "#for i in range (0, 10):\n",
    " #   for j in [2, 5, 8, 15, 20, 50, 80]:\n",
    "  #      counter(i, j)"
   ]
  },
  {
   "cell_type": "code",
   "execution_count": null,
   "id": "1d062ba9-db71-48c2-99d9-08367406df31",
   "metadata": {},
   "outputs": [],
   "source": []
  }
 ],
 "metadata": {
  "kernelspec": {
   "display_name": "Python 3 (ipykernel)",
   "language": "python",
   "name": "python3"
  },
  "language_info": {
   "codemirror_mode": {
    "name": "ipython",
    "version": 3
   },
   "file_extension": ".py",
   "mimetype": "text/x-python",
   "name": "python",
   "nbconvert_exporter": "python",
   "pygments_lexer": "ipython3",
   "version": "3.12.0"
  }
 },
 "nbformat": 4,
 "nbformat_minor": 5
}
