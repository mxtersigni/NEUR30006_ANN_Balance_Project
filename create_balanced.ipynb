{
 "cells": [
  {
   "cell_type": "markdown",
   "id": "178cfbbc-56d4-43b4-957a-2e4a6b4c5546",
   "metadata": {},
   "source": [
    "## Balancing the MNIST Dataset\r\n",
    "\r\n",
    "### Purpose\r\n",
    "The script aims to create a balanced version of the MNIST dataset where each digit class has an equal number of samples.\r\n",
    "\r\n",
    "### Key Steps\r\n",
    "\r\n",
    "1. **Data Loading**:\r\n",
    "    - MNIST data is loaded from a CSV file.\r\n",
    "    \r\n",
    "2. **Data Organization**:\r\n",
    "    - Data is organized by labels (0-9) into separate lists.\r\n",
    "    \r\n",
    "3. **Balancing**:\r\n",
    "    - The label with the minimum number of occurrences is identified.\r\n",
    "    - Samples from each label are randomly selected to match this minimum count, ensuring an equal number of samples for each digit class.\r\n",
    "    \r\n",
    "4. **Output**:\r\n",
    "    - The balanced dataset is written to a new CSV file.\r\n",
    "\r\n",
    "### Output\r\n",
    "A message confirms the successful creation of the balanced dataset.\r\n"
   ]
  },
  {
   "cell_type": "code",
   "execution_count": 4,
   "id": "50a7c72a-1add-4216-b27c-41d22a132ae6",
   "metadata": {},
   "outputs": [
    {
     "name": "stdout",
     "output_type": "stream",
     "text": [
      "Imbalanced dataset written to mnist_dataset/mnist_imbalanced_0_70.csv\n"
     ]
    }
   ],
   "source": [
    "import random\n",
    "\n",
    "# Path to the MNIST CSV file and the output file\n",
    "input_path = \"mnist_dataset/mnist_train.csv\"\n",
    "output_path = \"mnist_dataset/mnist_balanced.csv\"\n",
    "\n",
    "# Load the MNIST data\n",
    "with open(input_path, 'r') as file:\n",
    "    data_list = file.readlines()\n",
    "\n",
    "# Separate the data by label\n",
    "data_by_label = {i: [] for i in range(10)}\n",
    "for record in data_list:\n",
    "    label = int(record.split(',')[0])\n",
    "    data_by_label[label].append(record)\n",
    "\n",
    "# Determine the number with the minimum occurrences\n",
    "min_count = min(len(records) for records in data_by_label.values())\n",
    "\n",
    "# Randomly sample records from each label category to match the minimum occurrences\n",
    "balanced_data = []\n",
    "for label, records in data_by_label.items():\n",
    "    balanced_data.extend(random.sample(records, min_count))\n",
    "\n",
    "# Write the balanced dataset to a new CSV file\n",
    "with open(output_path, 'w') as file:\n",
    "    for record in balanced_data:\n",
    "        file.write(record)\n",
    "\n",
    "print(f\"Balanced dataset written to {output_path}\")\n",
    "80  # Change this for different imbalance percentage"
   ]
  }
 ],
 "metadata": {
  "kernelspec": {
   "display_name": "Python 3 (ipykernel)",
   "language": "python",
   "name": "python3"
  },
  "language_info": {
   "codemirror_mode": {
    "name": "ipython",
    "version": 3
   },
   "file_extension": ".py",
   "mimetype": "text/x-python",
   "name": "python",
   "nbconvert_exporter": "python",
   "pygments_lexer": "ipython3",
   "version": "3.12.0"
  }
 },
 "nbformat": 4,
 "nbformat_minor": 5
}
